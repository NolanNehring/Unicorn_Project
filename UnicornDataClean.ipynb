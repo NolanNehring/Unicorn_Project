{
 "cells": [
  {
   "cell_type": "code",
   "execution_count": 1,
   "id": "603aef9c",
   "metadata": {},
   "outputs": [],
   "source": [
    "import pandas as pd\n",
    "import numpy as np\n",
    "import seaborn as sns\n",
    "import os"
   ]
  },
  {
   "cell_type": "code",
   "execution_count": 5,
   "id": "24d9a5fc",
   "metadata": {},
   "outputs": [],
   "source": [
    "df = pd.read_csv(r\"C:\\Users\\Nolan Nehring\\Documents\\unicorns till sep 2022.csv\")"
   ]
  },
  {
   "cell_type": "code",
   "execution_count": 6,
   "id": "c634fa12",
   "metadata": {
    "scrolled": true
   },
   "outputs": [
    {
     "name": "stdout",
     "output_type": "stream",
     "text": [
      "<class 'pandas.core.frame.DataFrame'>\n",
      "RangeIndex: 1186 entries, 0 to 1185\n",
      "Data columns (total 7 columns):\n",
      " #   Column          Non-Null Count  Dtype \n",
      "---  ------          --------------  ----- \n",
      " 0   Company         1186 non-null   object\n",
      " 1   Valuation ($B)  1186 non-null   object\n",
      " 2   Date Joined     1186 non-null   object\n",
      " 3   Country         1186 non-null   object\n",
      " 4   City            1186 non-null   object\n",
      " 5   Industry        1186 non-null   object\n",
      " 6   Investors       1168 non-null   object\n",
      "dtypes: object(7)\n",
      "memory usage: 65.0+ KB\n"
     ]
    }
   ],
   "source": [
    "df.info()"
   ]
  },
  {
   "cell_type": "code",
   "execution_count": 7,
   "id": "8639984e",
   "metadata": {
    "scrolled": true
   },
   "outputs": [
    {
     "data": {
      "text/plain": [
       "Company            0\n",
       "Valuation ($B)     0\n",
       "Date Joined        0\n",
       "Country            0\n",
       "City               0\n",
       "Industry           0\n",
       "Investors         18\n",
       "dtype: int64"
      ]
     },
     "execution_count": 7,
     "metadata": {},
     "output_type": "execute_result"
    }
   ],
   "source": [
    "df.isna().sum()"
   ]
  },
  {
   "cell_type": "code",
   "execution_count": 8,
   "id": "41a7053c",
   "metadata": {},
   "outputs": [
    {
     "data": {
      "text/html": [
       "<div>\n",
       "<style scoped>\n",
       "    .dataframe tbody tr th:only-of-type {\n",
       "        vertical-align: middle;\n",
       "    }\n",
       "\n",
       "    .dataframe tbody tr th {\n",
       "        vertical-align: top;\n",
       "    }\n",
       "\n",
       "    .dataframe thead th {\n",
       "        text-align: right;\n",
       "    }\n",
       "</style>\n",
       "<table border=\"1\" class=\"dataframe\">\n",
       "  <thead>\n",
       "    <tr style=\"text-align: right;\">\n",
       "      <th></th>\n",
       "      <th>Company</th>\n",
       "      <th>Valuation ($B)</th>\n",
       "      <th>Date Joined</th>\n",
       "      <th>Country</th>\n",
       "      <th>City</th>\n",
       "      <th>Industry</th>\n",
       "      <th>Investors</th>\n",
       "    </tr>\n",
       "  </thead>\n",
       "  <tbody>\n",
       "    <tr>\n",
       "      <th>0</th>\n",
       "      <td>ByteDance</td>\n",
       "      <td>$140</td>\n",
       "      <td>4/7/2017</td>\n",
       "      <td>China</td>\n",
       "      <td>Beijing</td>\n",
       "      <td>Artificial intelligence</td>\n",
       "      <td>Sequoia Capital China, SIG Asia Investments, S...</td>\n",
       "    </tr>\n",
       "    <tr>\n",
       "      <th>1</th>\n",
       "      <td>SpaceX</td>\n",
       "      <td>$127</td>\n",
       "      <td>12/1/2012</td>\n",
       "      <td>United States</td>\n",
       "      <td>Hawthorne</td>\n",
       "      <td>Other</td>\n",
       "      <td>Founders Fund, Draper Fisher Jurvetson, Rothen...</td>\n",
       "    </tr>\n",
       "    <tr>\n",
       "      <th>2</th>\n",
       "      <td>SHEIN</td>\n",
       "      <td>$100</td>\n",
       "      <td>7/3/2018</td>\n",
       "      <td>China</td>\n",
       "      <td>Shenzhen</td>\n",
       "      <td>E-commerce &amp; direct-to-consumer</td>\n",
       "      <td>Tiger Global Management, Sequoia Capital China...</td>\n",
       "    </tr>\n",
       "    <tr>\n",
       "      <th>3</th>\n",
       "      <td>Stripe</td>\n",
       "      <td>$95</td>\n",
       "      <td>1/23/2014</td>\n",
       "      <td>United States</td>\n",
       "      <td>San Francisco</td>\n",
       "      <td>Fintech</td>\n",
       "      <td>Khosla Ventures, LowercaseCapital, capitalG</td>\n",
       "    </tr>\n",
       "    <tr>\n",
       "      <th>4</th>\n",
       "      <td>Canva</td>\n",
       "      <td>$40</td>\n",
       "      <td>1/8/2018</td>\n",
       "      <td>Australia</td>\n",
       "      <td>Surry Hills</td>\n",
       "      <td>Internet software &amp; services</td>\n",
       "      <td>Sequoia Capital China, Blackbird Ventures, Mat...</td>\n",
       "    </tr>\n",
       "  </tbody>\n",
       "</table>\n",
       "</div>"
      ],
      "text/plain": [
       "     Company Valuation ($B) Date Joined        Country          City   \\\n",
       "0  ByteDance           $140    4/7/2017          China        Beijing   \n",
       "1     SpaceX           $127   12/1/2012  United States      Hawthorne   \n",
       "2      SHEIN           $100    7/3/2018          China       Shenzhen   \n",
       "3     Stripe            $95   1/23/2014  United States  San Francisco   \n",
       "4      Canva            $40    1/8/2018      Australia    Surry Hills   \n",
       "\n",
       "                          Industry  \\\n",
       "0          Artificial intelligence   \n",
       "1                            Other   \n",
       "2  E-commerce & direct-to-consumer   \n",
       "3                          Fintech   \n",
       "4     Internet software & services   \n",
       "\n",
       "                                           Investors  \n",
       "0  Sequoia Capital China, SIG Asia Investments, S...  \n",
       "1  Founders Fund, Draper Fisher Jurvetson, Rothen...  \n",
       "2  Tiger Global Management, Sequoia Capital China...  \n",
       "3        Khosla Ventures, LowercaseCapital, capitalG  \n",
       "4  Sequoia Capital China, Blackbird Ventures, Mat...  "
      ]
     },
     "execution_count": 8,
     "metadata": {},
     "output_type": "execute_result"
    }
   ],
   "source": [
    "df.head()"
   ]
  },
  {
   "cell_type": "code",
   "execution_count": 9,
   "id": "f9bbe0c0",
   "metadata": {
    "scrolled": true
   },
   "outputs": [
    {
     "data": {
      "text/html": [
       "<div>\n",
       "<style scoped>\n",
       "    .dataframe tbody tr th:only-of-type {\n",
       "        vertical-align: middle;\n",
       "    }\n",
       "\n",
       "    .dataframe tbody tr th {\n",
       "        vertical-align: top;\n",
       "    }\n",
       "\n",
       "    .dataframe thead th {\n",
       "        text-align: right;\n",
       "    }\n",
       "</style>\n",
       "<table border=\"1\" class=\"dataframe\">\n",
       "  <thead>\n",
       "    <tr style=\"text-align: right;\">\n",
       "      <th></th>\n",
       "      <th>Company</th>\n",
       "      <th>Valuation ($B)</th>\n",
       "      <th>Date Joined</th>\n",
       "      <th>Country</th>\n",
       "      <th>City</th>\n",
       "      <th>Industry</th>\n",
       "      <th>Investors</th>\n",
       "    </tr>\n",
       "  </thead>\n",
       "  <tbody>\n",
       "    <tr>\n",
       "      <th>0</th>\n",
       "      <td>ByteDance</td>\n",
       "      <td>$140</td>\n",
       "      <td>4/7/2017</td>\n",
       "      <td>China</td>\n",
       "      <td>Beijing</td>\n",
       "      <td>Artificial intelligence</td>\n",
       "      <td>Sequoia Capital China, SIG Asia Investments, S...</td>\n",
       "    </tr>\n",
       "    <tr>\n",
       "      <th>1</th>\n",
       "      <td>SpaceX</td>\n",
       "      <td>$127</td>\n",
       "      <td>12/1/2012</td>\n",
       "      <td>United States</td>\n",
       "      <td>Hawthorne</td>\n",
       "      <td>Other</td>\n",
       "      <td>Founders Fund, Draper Fisher Jurvetson, Rothen...</td>\n",
       "    </tr>\n",
       "    <tr>\n",
       "      <th>2</th>\n",
       "      <td>SHEIN</td>\n",
       "      <td>$100</td>\n",
       "      <td>7/3/2018</td>\n",
       "      <td>China</td>\n",
       "      <td>Shenzhen</td>\n",
       "      <td>E-commerce &amp; direct-to-consumer</td>\n",
       "      <td>Tiger Global Management, Sequoia Capital China...</td>\n",
       "    </tr>\n",
       "    <tr>\n",
       "      <th>3</th>\n",
       "      <td>Stripe</td>\n",
       "      <td>$95</td>\n",
       "      <td>1/23/2014</td>\n",
       "      <td>United States</td>\n",
       "      <td>San Francisco</td>\n",
       "      <td>Fintech</td>\n",
       "      <td>Khosla Ventures, LowercaseCapital, capitalG</td>\n",
       "    </tr>\n",
       "    <tr>\n",
       "      <th>4</th>\n",
       "      <td>Canva</td>\n",
       "      <td>$40</td>\n",
       "      <td>1/8/2018</td>\n",
       "      <td>Australia</td>\n",
       "      <td>Surry Hills</td>\n",
       "      <td>Internet software &amp; services</td>\n",
       "      <td>Sequoia Capital China, Blackbird Ventures, Mat...</td>\n",
       "    </tr>\n",
       "    <tr>\n",
       "      <th>...</th>\n",
       "      <td>...</td>\n",
       "      <td>...</td>\n",
       "      <td>...</td>\n",
       "      <td>...</td>\n",
       "      <td>...</td>\n",
       "      <td>...</td>\n",
       "      <td>...</td>\n",
       "    </tr>\n",
       "    <tr>\n",
       "      <th>1181</th>\n",
       "      <td>LeadSquared</td>\n",
       "      <td>$1</td>\n",
       "      <td>6/21/2022</td>\n",
       "      <td>India</td>\n",
       "      <td>Bengaluru</td>\n",
       "      <td>Internet software &amp; services</td>\n",
       "      <td>Gaja Capital Partners, Stakeboat Capital, West...</td>\n",
       "    </tr>\n",
       "    <tr>\n",
       "      <th>1182</th>\n",
       "      <td>FourKites</td>\n",
       "      <td>$1</td>\n",
       "      <td>6/21/2022</td>\n",
       "      <td>United States</td>\n",
       "      <td>Chicago</td>\n",
       "      <td>Supply chain, logistics, &amp; delivery</td>\n",
       "      <td>Hyde Park Venture Partners, Bain Capital Ventu...</td>\n",
       "    </tr>\n",
       "    <tr>\n",
       "      <th>1183</th>\n",
       "      <td>VulcanForms</td>\n",
       "      <td>$1</td>\n",
       "      <td>7/5/2022</td>\n",
       "      <td>United States</td>\n",
       "      <td>Burlington</td>\n",
       "      <td>Supply chain, logistics, &amp; delivery</td>\n",
       "      <td>Eclipse Ventures, D1 Capital Partners, Industr...</td>\n",
       "    </tr>\n",
       "    <tr>\n",
       "      <th>1184</th>\n",
       "      <td>SingleStore</td>\n",
       "      <td>$1</td>\n",
       "      <td>7/12/2022</td>\n",
       "      <td>United States</td>\n",
       "      <td>San Francisco</td>\n",
       "      <td>Data management &amp; analytics</td>\n",
       "      <td>Google Ventures, Accel, Data Collective</td>\n",
       "    </tr>\n",
       "    <tr>\n",
       "      <th>1185</th>\n",
       "      <td>Unstoppable Domains</td>\n",
       "      <td>$1</td>\n",
       "      <td>7/27/2022</td>\n",
       "      <td>United States</td>\n",
       "      <td>Las Vegas</td>\n",
       "      <td>Internet software &amp; services</td>\n",
       "      <td>Boost VC, Draper Associates, Gaingels</td>\n",
       "    </tr>\n",
       "  </tbody>\n",
       "</table>\n",
       "<p>1186 rows × 7 columns</p>\n",
       "</div>"
      ],
      "text/plain": [
       "                  Company Valuation ($B) Date Joined        Country  \\\n",
       "0               ByteDance           $140    4/7/2017          China   \n",
       "1                  SpaceX           $127   12/1/2012  United States   \n",
       "2                   SHEIN           $100    7/3/2018          China   \n",
       "3                  Stripe            $95   1/23/2014  United States   \n",
       "4                   Canva            $40    1/8/2018      Australia   \n",
       "...                   ...            ...         ...            ...   \n",
       "1181          LeadSquared             $1   6/21/2022          India   \n",
       "1182            FourKites             $1   6/21/2022  United States   \n",
       "1183          VulcanForms             $1    7/5/2022  United States   \n",
       "1184          SingleStore             $1   7/12/2022  United States   \n",
       "1185  Unstoppable Domains             $1   7/27/2022  United States   \n",
       "\n",
       "              City                              Industry  \\\n",
       "0           Beijing              Artificial intelligence   \n",
       "1         Hawthorne                                Other   \n",
       "2          Shenzhen      E-commerce & direct-to-consumer   \n",
       "3     San Francisco                              Fintech   \n",
       "4       Surry Hills         Internet software & services   \n",
       "...             ...                                  ...   \n",
       "1181      Bengaluru         Internet software & services   \n",
       "1182        Chicago  Supply chain, logistics, & delivery   \n",
       "1183     Burlington  Supply chain, logistics, & delivery   \n",
       "1184  San Francisco          Data management & analytics   \n",
       "1185      Las Vegas         Internet software & services   \n",
       "\n",
       "                                              Investors  \n",
       "0     Sequoia Capital China, SIG Asia Investments, S...  \n",
       "1     Founders Fund, Draper Fisher Jurvetson, Rothen...  \n",
       "2     Tiger Global Management, Sequoia Capital China...  \n",
       "3           Khosla Ventures, LowercaseCapital, capitalG  \n",
       "4     Sequoia Capital China, Blackbird Ventures, Mat...  \n",
       "...                                                 ...  \n",
       "1181  Gaja Capital Partners, Stakeboat Capital, West...  \n",
       "1182  Hyde Park Venture Partners, Bain Capital Ventu...  \n",
       "1183  Eclipse Ventures, D1 Capital Partners, Industr...  \n",
       "1184            Google Ventures, Accel, Data Collective  \n",
       "1185              Boost VC, Draper Associates, Gaingels  \n",
       "\n",
       "[1186 rows x 7 columns]"
      ]
     },
     "execution_count": 9,
     "metadata": {},
     "output_type": "execute_result"
    }
   ],
   "source": [
    "df"
   ]
  },
  {
   "cell_type": "code",
   "execution_count": 10,
   "id": "1422974e",
   "metadata": {
    "scrolled": false
   },
   "outputs": [
    {
     "data": {
      "text/plain": [
       "Fintech                                                               239\n",
       "Internet software & services                                          224\n",
       "E-commerce & direct-to-consumer                                       103\n",
       "Health                                                                 94\n",
       "Artificial intelligence                                                74\n",
       "Supply chain, logistics, & delivery                                    65\n",
       "Other                                                                  65\n",
       "Cybersecurity                                                          58\n",
       "Data management & analytics                                            45\n",
       "Auto & transportation                                                  40\n",
       "Hardware                                                               38\n",
       "Mobile & telecommunications                                            37\n",
       "Edtech                                                                 32\n",
       "Consumer & retail                                                      28\n",
       "Travel                                                                 14\n",
       "Artificial Intelligence                                                11\n",
       "Internet                                                                2\n",
       "Sequoia Capital China, ING, Alibaba Entrepreneurs Fund                  1\n",
       "Andreessen Horowitz, DST Global, IDG Capital                            1\n",
       "B Capital Group, Monk's Hill Ventures, Dynamic Parcel Distribution      1\n",
       "Vertex Ventures SE Asia, Global Founders Capital, Visa Ventures         1\n",
       "Mundi Ventures, Doqling Capital Partners, Activant Capital              1\n",
       "SingTel Innov8, Alpha JWC Ventures, Golden Gate Ventures                1\n",
       "Dragonfly Captial, Qiming Venture Partners, DST Global                  1\n",
       "Sequoia Capital China, Shunwei Capital Partners, Qualgro                1\n",
       "Tiger Global Management, Tiger Brokers, DCM Ventures                    1\n",
       "500 Global, Rakuten Ventures, Golden Gate Ventures                      1\n",
       "Hopu Investment Management, Boyu Capital, DC Thomson Ventures           1\n",
       "Vision Plus Capital, GSR Ventures, ZhenFund                             1\n",
       "GIC. Apis Partners, Insight Partners                                    1\n",
       "Jungle Ventures, Accel, Venture Highway                                 1\n",
       "Kuang-Chi                                                               1\n",
       "Sequoia Capital, Thoma Bravo, Softbank                                  1\n",
       "Temasek, Guggenheim Investments, Qatar Investment Authority             1\n",
       "Name: Industry, dtype: int64"
      ]
     },
     "execution_count": 10,
     "metadata": {},
     "output_type": "execute_result"
    }
   ],
   "source": [
    "df['Industry'].value_counts()"
   ]
  },
  {
   "cell_type": "code",
   "execution_count": 11,
   "id": "da3c8bdf",
   "metadata": {},
   "outputs": [
    {
     "data": {
      "text/plain": [
       "Bolt                   2\n",
       "Fabric                 2\n",
       "Branch                 2\n",
       "ByteDance              1\n",
       "Public                 1\n",
       "                      ..\n",
       "Uptake                 1\n",
       "Voodoo                 1\n",
       "Biren Technology       1\n",
       "WEMAKEPRICE            1\n",
       "Unstoppable Domains    1\n",
       "Name: Company, Length: 1183, dtype: int64"
      ]
     },
     "execution_count": 11,
     "metadata": {},
     "output_type": "execute_result"
    }
   ],
   "source": [
    "df['Company'].value_counts()"
   ]
  },
  {
   "cell_type": "code",
   "execution_count": 12,
   "id": "af6ca6e0",
   "metadata": {},
   "outputs": [
    {
     "data": {
      "text/plain": [
       "United States           636\n",
       "China                   174\n",
       "India                    70\n",
       "United Kingdom           46\n",
       "Germany                  29\n",
       "France                   24\n",
       "Israel                   22\n",
       "Canada                   19\n",
       "Brazil                   17\n",
       "South Korea              17\n",
       "Singapore                13\n",
       "Sweden                    8\n",
       "Mexico                    8\n",
       "Australia                 8\n",
       "Indonesia                 7\n",
       "Netherlands               7\n",
       "Hong Kong                 7\n",
       "Ireland                   6\n",
       "Japan                     6\n",
       "Switzerland               6\n",
       "Norway                    5\n",
       "Finland                   4\n",
       "Spain                     4\n",
       "Turkey                    3\n",
       "Colombia                  3\n",
       "Belgium                   3\n",
       "United Arab Emirates      3\n",
       "Austria                   2\n",
       "Lithuania                 2\n",
       "Vietnam                   2\n",
       "Thailand                  2\n",
       "Estonia                   2\n",
       "Chile                     2\n",
       "Denmark                   2\n",
       "Philippines               2\n",
       "Croatia                   2\n",
       "South Africa              2\n",
       "Czech Republic            1\n",
       "Bermuda                   1\n",
       "Ecuador                   1\n",
       "Luxembourg                1\n",
       "Malaysia                  1\n",
       "Senegal                   1\n",
       "Nigeria                   1\n",
       "Bahamas                   1\n",
       "Argentina                 1\n",
       "Seychelles                1\n",
       "Italy                     1\n",
       "Name: Country, dtype: int64"
      ]
     },
     "execution_count": 12,
     "metadata": {},
     "output_type": "execute_result"
    }
   ],
   "source": [
    "df['Country'].value_counts()"
   ]
  },
  {
   "cell_type": "code",
   "execution_count": 14,
   "id": "3f7f48fb",
   "metadata": {
    "scrolled": true
   },
   "outputs": [
    {
     "data": {
      "text/html": [
       "<div>\n",
       "<style scoped>\n",
       "    .dataframe tbody tr th:only-of-type {\n",
       "        vertical-align: middle;\n",
       "    }\n",
       "\n",
       "    .dataframe tbody tr th {\n",
       "        vertical-align: top;\n",
       "    }\n",
       "\n",
       "    .dataframe thead th {\n",
       "        text-align: right;\n",
       "    }\n",
       "</style>\n",
       "<table border=\"1\" class=\"dataframe\">\n",
       "  <thead>\n",
       "    <tr style=\"text-align: right;\">\n",
       "      <th></th>\n",
       "      <th>Company</th>\n",
       "      <th>Valuation ($B)</th>\n",
       "      <th>Date Joined</th>\n",
       "      <th>Country</th>\n",
       "      <th>City</th>\n",
       "      <th>Industry</th>\n",
       "      <th>Investors</th>\n",
       "    </tr>\n",
       "  </thead>\n",
       "  <tbody>\n",
       "    <tr>\n",
       "      <th>941</th>\n",
       "      <td>WeLab</td>\n",
       "      <td>$1</td>\n",
       "      <td>11/8/2017</td>\n",
       "      <td>Hong Kong</td>\n",
       "      <td>Fintech</td>\n",
       "      <td>Sequoia Capital China, ING, Alibaba Entreprene...</td>\n",
       "      <td>NaN</td>\n",
       "    </tr>\n",
       "  </tbody>\n",
       "</table>\n",
       "</div>"
      ],
      "text/plain": [
       "    Company Valuation ($B) Date Joined    Country    City   \\\n",
       "941   WeLab             $1   11/8/2017  Hong Kong  Fintech   \n",
       "\n",
       "                                              Industry Investors  \n",
       "941  Sequoia Capital China, ING, Alibaba Entreprene...       NaN  "
      ]
     },
     "execution_count": 14,
     "metadata": {},
     "output_type": "execute_result"
    }
   ],
   "source": [
    "df.loc[df['Industry'] == 'Sequoia Capital China, ING, Alibaba Entrepreneurs Fund']"
   ]
  },
  {
   "cell_type": "code",
   "execution_count": 16,
   "id": "611ad88d",
   "metadata": {
    "scrolled": true
   },
   "outputs": [
    {
     "data": {
      "text/html": [
       "<div>\n",
       "<style scoped>\n",
       "    .dataframe tbody tr th:only-of-type {\n",
       "        vertical-align: middle;\n",
       "    }\n",
       "\n",
       "    .dataframe tbody tr th {\n",
       "        vertical-align: top;\n",
       "    }\n",
       "\n",
       "    .dataframe thead th {\n",
       "        text-align: right;\n",
       "    }\n",
       "</style>\n",
       "<table border=\"1\" class=\"dataframe\">\n",
       "  <thead>\n",
       "    <tr style=\"text-align: right;\">\n",
       "      <th></th>\n",
       "      <th>Company</th>\n",
       "      <th>Valuation ($B)</th>\n",
       "      <th>Date Joined</th>\n",
       "      <th>Country</th>\n",
       "      <th>City</th>\n",
       "      <th>Industry</th>\n",
       "      <th>Investors</th>\n",
       "    </tr>\n",
       "  </thead>\n",
       "  <tbody>\n",
       "  </tbody>\n",
       "</table>\n",
       "</div>"
      ],
      "text/plain": [
       "Empty DataFrame\n",
       "Columns: [Company, Valuation ($B), Date Joined, Country, City , Industry, Investors]\n",
       "Index: []"
      ]
     },
     "execution_count": 16,
     "metadata": {},
     "output_type": "execute_result"
    }
   ],
   "source": [
    "df.loc[df[\"Investors\"] == 'NaN']"
   ]
  },
  {
   "cell_type": "code",
   "execution_count": null,
   "id": "595dcf63",
   "metadata": {},
   "outputs": [],
   "source": [
    "df[df['Investors'].isna()]"
   ]
  },
  {
   "cell_type": "code",
   "execution_count": 19,
   "id": "7e980bf0",
   "metadata": {},
   "outputs": [],
   "source": [
    "# Here is the list of data problems \n",
    "# 1. Change the Valuation Column to a Float\n",
    "# 2. Solve the Industry Nan values\n",
    "# 3. Change the date to the datetime format\n",
    "# 4. Split the investors Columns "
   ]
  },
  {
   "cell_type": "code",
   "execution_count": 23,
   "id": "4ab463be",
   "metadata": {},
   "outputs": [],
   "source": [
    "df['Valuation ($B)'] = df['Valuation ($B)'].str.replace('$', '', regex=True) # Change the Valuation Column to a Float"
   ]
  },
  {
   "cell_type": "code",
   "execution_count": 25,
   "id": "635d1c9b",
   "metadata": {},
   "outputs": [],
   "source": [
    "df.loc[df['Investors'].isna(), 'Investors'] = df.loc[df['Investors'].isna(), 'Industry']"
   ]
  },
  {
   "cell_type": "code",
   "execution_count": 27,
   "id": "4059752e",
   "metadata": {},
   "outputs": [],
   "source": [
    "df['Investors'].fillna(df['Industry'], inplace=True) # Moves the Value from Industry to Investors"
   ]
  },
  {
   "cell_type": "code",
   "execution_count": 28,
   "id": "ceab05dc",
   "metadata": {
    "scrolled": false
   },
   "outputs": [
    {
     "data": {
      "text/html": [
       "<div>\n",
       "<style scoped>\n",
       "    .dataframe tbody tr th:only-of-type {\n",
       "        vertical-align: middle;\n",
       "    }\n",
       "\n",
       "    .dataframe tbody tr th {\n",
       "        vertical-align: top;\n",
       "    }\n",
       "\n",
       "    .dataframe thead th {\n",
       "        text-align: right;\n",
       "    }\n",
       "</style>\n",
       "<table border=\"1\" class=\"dataframe\">\n",
       "  <thead>\n",
       "    <tr style=\"text-align: right;\">\n",
       "      <th></th>\n",
       "      <th>Company</th>\n",
       "      <th>Valuation ($B)</th>\n",
       "      <th>Date Joined</th>\n",
       "      <th>Country</th>\n",
       "      <th>City</th>\n",
       "      <th>Industry</th>\n",
       "      <th>Investors</th>\n",
       "    </tr>\n",
       "  </thead>\n",
       "  <tbody>\n",
       "    <tr>\n",
       "      <th>941</th>\n",
       "      <td>WeLab</td>\n",
       "      <td>1</td>\n",
       "      <td>11/8/2017</td>\n",
       "      <td>Hong Kong</td>\n",
       "      <td>Fintech</td>\n",
       "      <td>Sequoia Capital China, ING, Alibaba Entreprene...</td>\n",
       "      <td>Sequoia Capital China, ING, Alibaba Entreprene...</td>\n",
       "    </tr>\n",
       "  </tbody>\n",
       "</table>\n",
       "</div>"
      ],
      "text/plain": [
       "    Company Valuation ($B) Date Joined    Country    City   \\\n",
       "941   WeLab              1   11/8/2017  Hong Kong  Fintech   \n",
       "\n",
       "                                              Industry  \\\n",
       "941  Sequoia Capital China, ING, Alibaba Entreprene...   \n",
       "\n",
       "                                             Investors  \n",
       "941  Sequoia Capital China, ING, Alibaba Entreprene...  "
      ]
     },
     "execution_count": 28,
     "metadata": {},
     "output_type": "execute_result"
    }
   ],
   "source": [
    "df.loc[df['Industry'] == 'Sequoia Capital China, ING, Alibaba Entrepreneurs Fund']"
   ]
  },
  {
   "cell_type": "code",
   "execution_count": 29,
   "id": "d0403074",
   "metadata": {},
   "outputs": [],
   "source": [
    "# Time to find all of the rows that changed\n",
    "grouped = df.groupby(['Industry', 'Investors'])"
   ]
  },
  {
   "cell_type": "code",
   "execution_count": 30,
   "id": "4a1c43d2",
   "metadata": {
    "scrolled": false
   },
   "outputs": [
    {
     "data": {
      "text/plain": [
       "Industry                                                         Investors                                                        \n",
       "500 Global, Rakuten Ventures, Golden Gate Ventures               500 Global, Rakuten Ventures, Golden Gate Ventures                   1\n",
       "Andreessen Horowitz, DST Global, IDG Capital                     Andreessen Horowitz, DST Global, IDG Capital                         1\n",
       "Artificial Intelligence                                          Andreessen Horowitz, Greylock Partners, Sequoia Capital              1\n",
       "                                                                 Andreessen Horowitz, Intel Capital, Foundation Capital               1\n",
       "                                                                 Chiratae Ventures, March Capital Partners, National Grid Partners    1\n",
       "                                                                                                                                     ..\n",
       "Travel                                                           SoftBank Group, Sequoia Capital India,Lightspeed India Partners      1\n",
       "                                                                 Spark Capital, Highland Europe, Sunstone Capital                     1\n",
       "                                                                 Vostok New Ventures, The Raine Group, Balderton Capital              1\n",
       "Vertex Ventures SE Asia, Global Founders Capital, Visa Ventures  Vertex Ventures SE Asia, Global Founders Capital, Visa Ventures      1\n",
       "Vision Plus Capital, GSR Ventures, ZhenFund                      Vision Plus Capital, GSR Ventures, ZhenFund                          1\n",
       "Length: 1183, dtype: int64"
      ]
     },
     "execution_count": 30,
     "metadata": {},
     "output_type": "execute_result"
    }
   ],
   "source": [
    "grouped.size()"
   ]
  },
  {
   "cell_type": "code",
   "execution_count": 36,
   "id": "444efddb",
   "metadata": {},
   "outputs": [
    {
     "data": {
      "text/plain": [
       "Index(['Company', 'Valuation ($B)', 'Date Joined', 'Country', 'City ',\n",
       "       'Industry', 'Investors'],\n",
       "      dtype='object')"
      ]
     },
     "execution_count": 36,
     "metadata": {},
     "output_type": "execute_result"
    }
   ],
   "source": [
    "df.columns"
   ]
  },
  {
   "cell_type": "code",
   "execution_count": 37,
   "id": "22fbb07a",
   "metadata": {},
   "outputs": [],
   "source": [
    "# City has a space in it at the end needs to change it\n",
    "df.rename(columns={'City ': 'City'}, inplace=True)"
   ]
  },
  {
   "cell_type": "code",
   "execution_count": 38,
   "id": "8743fec7",
   "metadata": {},
   "outputs": [
    {
     "data": {
      "text/plain": [
       "Index(['Company', 'Valuation ($B)', 'Date Joined', 'Country', 'City ',\n",
       "       'Industry', 'Investors'],\n",
       "      dtype='object')"
      ]
     },
     "execution_count": 38,
     "metadata": {},
     "output_type": "execute_result"
    }
   ],
   "source": [
    "df.columns"
   ]
  },
  {
   "cell_type": "code",
   "execution_count": 39,
   "id": "a5b0533b",
   "metadata": {},
   "outputs": [
    {
     "data": {
      "text/plain": [
       "Index(['Company', 'Valuation ($B)', 'Date Joined', 'Country', 'City ',\n",
       "       'Industry', 'Investors'],\n",
       "      dtype='object')"
      ]
     },
     "execution_count": 39,
     "metadata": {},
     "output_type": "execute_result"
    }
   ],
   "source": [
    "df.columns"
   ]
  },
  {
   "cell_type": "code",
   "execution_count": 40,
   "id": "cd32e140",
   "metadata": {},
   "outputs": [],
   "source": [
    "# City has a space in it at the end needs to change it\n",
    "df.rename(columns={'City': 'City'}, inplace=True)"
   ]
  },
  {
   "cell_type": "code",
   "execution_count": 41,
   "id": "2d8f9d31",
   "metadata": {},
   "outputs": [],
   "source": [
    "df.columns = df.columns.str.rstrip()"
   ]
  },
  {
   "cell_type": "code",
   "execution_count": 42,
   "id": "380dfdd6",
   "metadata": {},
   "outputs": [
    {
     "name": "stdout",
     "output_type": "stream",
     "text": [
      "Index(['Company', 'Valuation ($B)', 'Date Joined', 'Country', 'City',\n",
      "       'Industry', 'Investors'],\n",
      "      dtype='object')\n"
     ]
    }
   ],
   "source": [
    "print(df.columns)"
   ]
  },
  {
   "cell_type": "code",
   "execution_count": 43,
   "id": "cac82255",
   "metadata": {},
   "outputs": [],
   "source": [
    "mask = df['Industry'] == df['Investors']\n",
    "df.loc[mask, 'Industry'] = df.loc[mask, 'City']"
   ]
  },
  {
   "cell_type": "code",
   "execution_count": 44,
   "id": "df539e83",
   "metadata": {},
   "outputs": [
    {
     "data": {
      "text/plain": [
       "San Francisco     168\n",
       "New York          111\n",
       "Beijing            62\n",
       "Shanghai           46\n",
       "London             36\n",
       "                 ... \n",
       "Lagos               1\n",
       "Pennsauken          1\n",
       "Plantation          1\n",
       "Portola Valley      1\n",
       "Las Vegas           1\n",
       "Name: City, Length: 286, dtype: int64"
      ]
     },
     "execution_count": 44,
     "metadata": {},
     "output_type": "execute_result"
    }
   ],
   "source": [
    "df['City'].value_counts()"
   ]
  },
  {
   "cell_type": "code",
   "execution_count": 45,
   "id": "8c52eb4a",
   "metadata": {},
   "outputs": [
    {
     "name": "stdout",
     "output_type": "stream",
     "text": [
      "Column A and column B do not have the same values\n"
     ]
    }
   ],
   "source": [
    "# Check to see if the value trasnfered\n",
    "if df['City'].equals(df['Industry']):\n",
    "    print(\"Column A and column B have the same values\")\n",
    "else:\n",
    "    print(\"Column A and column B do not have the same values\")"
   ]
  },
  {
   "cell_type": "code",
   "execution_count": 46,
   "id": "dd2e4b4c",
   "metadata": {},
   "outputs": [
    {
     "data": {
      "text/html": [
       "<div>\n",
       "<style scoped>\n",
       "    .dataframe tbody tr th:only-of-type {\n",
       "        vertical-align: middle;\n",
       "    }\n",
       "\n",
       "    .dataframe tbody tr th {\n",
       "        vertical-align: top;\n",
       "    }\n",
       "\n",
       "    .dataframe thead th {\n",
       "        text-align: right;\n",
       "    }\n",
       "</style>\n",
       "<table border=\"1\" class=\"dataframe\">\n",
       "  <thead>\n",
       "    <tr style=\"text-align: right;\">\n",
       "      <th></th>\n",
       "      <th>Company</th>\n",
       "      <th>Valuation ($B)</th>\n",
       "      <th>Date Joined</th>\n",
       "      <th>Country</th>\n",
       "      <th>City</th>\n",
       "      <th>Industry</th>\n",
       "      <th>Investors</th>\n",
       "    </tr>\n",
       "  </thead>\n",
       "  <tbody>\n",
       "    <tr>\n",
       "      <th>941</th>\n",
       "      <td>WeLab</td>\n",
       "      <td>1</td>\n",
       "      <td>11/8/2017</td>\n",
       "      <td>Hong Kong</td>\n",
       "      <td>Fintech</td>\n",
       "      <td>Fintech</td>\n",
       "      <td>Sequoia Capital China, ING, Alibaba Entreprene...</td>\n",
       "    </tr>\n",
       "  </tbody>\n",
       "</table>\n",
       "</div>"
      ],
      "text/plain": [
       "    Company Valuation ($B) Date Joined    Country     City Industry  \\\n",
       "941   WeLab              1   11/8/2017  Hong Kong  Fintech  Fintech   \n",
       "\n",
       "                                             Investors  \n",
       "941  Sequoia Capital China, ING, Alibaba Entreprene...  "
      ]
     },
     "execution_count": 46,
     "metadata": {},
     "output_type": "execute_result"
    }
   ],
   "source": [
    "df.loc[df['Investors'] == 'Sequoia Capital China, ING, Alibaba Entrepreneurs Fund']"
   ]
  },
  {
   "cell_type": "code",
   "execution_count": 47,
   "id": "54640300",
   "metadata": {},
   "outputs": [],
   "source": [
    "df.loc[df['Industry'] == df['City'], 'City'] = np.nan"
   ]
  },
  {
   "cell_type": "code",
   "execution_count": 48,
   "id": "ad293a71",
   "metadata": {},
   "outputs": [
    {
     "data": {
      "text/html": [
       "<div>\n",
       "<style scoped>\n",
       "    .dataframe tbody tr th:only-of-type {\n",
       "        vertical-align: middle;\n",
       "    }\n",
       "\n",
       "    .dataframe tbody tr th {\n",
       "        vertical-align: top;\n",
       "    }\n",
       "\n",
       "    .dataframe thead th {\n",
       "        text-align: right;\n",
       "    }\n",
       "</style>\n",
       "<table border=\"1\" class=\"dataframe\">\n",
       "  <thead>\n",
       "    <tr style=\"text-align: right;\">\n",
       "      <th></th>\n",
       "      <th>Company</th>\n",
       "      <th>Valuation ($B)</th>\n",
       "      <th>Date Joined</th>\n",
       "      <th>Country</th>\n",
       "      <th>City</th>\n",
       "      <th>Industry</th>\n",
       "      <th>Investors</th>\n",
       "    </tr>\n",
       "  </thead>\n",
       "  <tbody>\n",
       "    <tr>\n",
       "      <th>10</th>\n",
       "      <td>FTX</td>\n",
       "      <td>32</td>\n",
       "      <td>7/20/2021</td>\n",
       "      <td>Bahamas</td>\n",
       "      <td>NaN</td>\n",
       "      <td>Fintech</td>\n",
       "      <td>Sequoia Capital, Thoma Bravo, Softbank</td>\n",
       "    </tr>\n",
       "    <tr>\n",
       "      <th>242</th>\n",
       "      <td>HyalRoute</td>\n",
       "      <td>3.50</td>\n",
       "      <td>5/26/2020</td>\n",
       "      <td>Singapore</td>\n",
       "      <td>NaN</td>\n",
       "      <td>Mobile &amp; telecommunications</td>\n",
       "      <td>Kuang-Chi</td>\n",
       "    </tr>\n",
       "    <tr>\n",
       "      <th>316</th>\n",
       "      <td>Amber Group</td>\n",
       "      <td>3</td>\n",
       "      <td>6/21/2021</td>\n",
       "      <td>Hong Kong</td>\n",
       "      <td>NaN</td>\n",
       "      <td>Fintech</td>\n",
       "      <td>Tiger Global Management, Tiger Brokers, DCM Ve...</td>\n",
       "    </tr>\n",
       "    <tr>\n",
       "      <th>346</th>\n",
       "      <td>Moglix</td>\n",
       "      <td>2.60</td>\n",
       "      <td>5/17/2021</td>\n",
       "      <td>Singapore</td>\n",
       "      <td>NaN</td>\n",
       "      <td>E-commerce &amp; direct-to-consumer</td>\n",
       "      <td>Jungle Ventures, Accel, Venture Highway</td>\n",
       "    </tr>\n",
       "    <tr>\n",
       "      <th>371</th>\n",
       "      <td>Coda Payments</td>\n",
       "      <td>2.50</td>\n",
       "      <td>4/15/2022</td>\n",
       "      <td>Singapore</td>\n",
       "      <td>NaN</td>\n",
       "      <td>Fintech</td>\n",
       "      <td>GIC. Apis Partners, Insight Partners</td>\n",
       "    </tr>\n",
       "    <tr>\n",
       "      <th>482</th>\n",
       "      <td>Advance Intelligence Group</td>\n",
       "      <td>2</td>\n",
       "      <td>9/23/2021</td>\n",
       "      <td>Singapore</td>\n",
       "      <td>NaN</td>\n",
       "      <td>Artificial intelligence</td>\n",
       "      <td>Vision Plus Capital, GSR Ventures, ZhenFund</td>\n",
       "    </tr>\n",
       "    <tr>\n",
       "      <th>495</th>\n",
       "      <td>Trax</td>\n",
       "      <td>2</td>\n",
       "      <td>7/22/2019</td>\n",
       "      <td>Singapore</td>\n",
       "      <td>NaN</td>\n",
       "      <td>Artificial intelligence</td>\n",
       "      <td>Hopu Investment Management, Boyu Capital, DC T...</td>\n",
       "    </tr>\n",
       "    <tr>\n",
       "      <th>865</th>\n",
       "      <td>Carousell</td>\n",
       "      <td>1.10</td>\n",
       "      <td>9/15/2021</td>\n",
       "      <td>Singapore</td>\n",
       "      <td>NaN</td>\n",
       "      <td>E-commerce &amp; direct-to-consumer</td>\n",
       "      <td>500 Global, Rakuten Ventures, Golden Gate Vent...</td>\n",
       "    </tr>\n",
       "    <tr>\n",
       "      <th>917</th>\n",
       "      <td>LinkSure Network</td>\n",
       "      <td>1</td>\n",
       "      <td>1/1/2015</td>\n",
       "      <td>China</td>\n",
       "      <td>NaN</td>\n",
       "      <td>Shanghai</td>\n",
       "      <td>Mobile &amp; telecommunications</td>\n",
       "    </tr>\n",
       "    <tr>\n",
       "      <th>941</th>\n",
       "      <td>WeLab</td>\n",
       "      <td>1</td>\n",
       "      <td>11/8/2017</td>\n",
       "      <td>Hong Kong</td>\n",
       "      <td>NaN</td>\n",
       "      <td>Fintech</td>\n",
       "      <td>Sequoia Capital China, ING, Alibaba Entreprene...</td>\n",
       "    </tr>\n",
       "    <tr>\n",
       "      <th>1000</th>\n",
       "      <td>PatSnap</td>\n",
       "      <td>1</td>\n",
       "      <td>3/16/2021</td>\n",
       "      <td>Singapore</td>\n",
       "      <td>NaN</td>\n",
       "      <td>Internet software &amp; services</td>\n",
       "      <td>Sequoia Capital China, Shunwei Capital Partner...</td>\n",
       "    </tr>\n",
       "    <tr>\n",
       "      <th>1027</th>\n",
       "      <td>Matrixport</td>\n",
       "      <td>1.05</td>\n",
       "      <td>6/1/2021</td>\n",
       "      <td>Singapore</td>\n",
       "      <td>NaN</td>\n",
       "      <td>Fintech</td>\n",
       "      <td>Dragonfly Captial, Qiming Venture Partners, DS...</td>\n",
       "    </tr>\n",
       "    <tr>\n",
       "      <th>1032</th>\n",
       "      <td>Carro</td>\n",
       "      <td>1</td>\n",
       "      <td>6/14/2021</td>\n",
       "      <td>Singapore</td>\n",
       "      <td>NaN</td>\n",
       "      <td>E-commerce &amp; direct-to-consumer</td>\n",
       "      <td>SingTel Innov8, Alpha JWC Ventures, Golden Gat...</td>\n",
       "    </tr>\n",
       "    <tr>\n",
       "      <th>1044</th>\n",
       "      <td>bolttech</td>\n",
       "      <td>1</td>\n",
       "      <td>7/1/2021</td>\n",
       "      <td>Singapore</td>\n",
       "      <td>NaN</td>\n",
       "      <td>Fintech</td>\n",
       "      <td>Mundi Ventures, Doqling Capital Partners, Acti...</td>\n",
       "    </tr>\n",
       "    <tr>\n",
       "      <th>1054</th>\n",
       "      <td>NIUM</td>\n",
       "      <td>1</td>\n",
       "      <td>7/13/2021</td>\n",
       "      <td>Singapore</td>\n",
       "      <td>NaN</td>\n",
       "      <td>Fintech</td>\n",
       "      <td>Vertex Ventures SE Asia, Global Founders Capit...</td>\n",
       "    </tr>\n",
       "    <tr>\n",
       "      <th>1065</th>\n",
       "      <td>Cider</td>\n",
       "      <td>1</td>\n",
       "      <td>9/2/2021</td>\n",
       "      <td>Hong Kong</td>\n",
       "      <td>NaN</td>\n",
       "      <td>E-commerce &amp; direct-to-consumer</td>\n",
       "      <td>Andreessen Horowitz, DST Global, IDG Capital</td>\n",
       "    </tr>\n",
       "    <tr>\n",
       "      <th>1077</th>\n",
       "      <td>Ninja Van</td>\n",
       "      <td>1</td>\n",
       "      <td>9/27/2021</td>\n",
       "      <td>Singapore</td>\n",
       "      <td>NaN</td>\n",
       "      <td>Supply chain, logistics, &amp; delivery</td>\n",
       "      <td>B Capital Group, Monk's Hill Ventures, Dynamic...</td>\n",
       "    </tr>\n",
       "    <tr>\n",
       "      <th>1129</th>\n",
       "      <td>ONE</td>\n",
       "      <td>1</td>\n",
       "      <td>12/8/2021</td>\n",
       "      <td>Singapore</td>\n",
       "      <td>NaN</td>\n",
       "      <td>Internet software &amp; services</td>\n",
       "      <td>Temasek, Guggenheim Investments, Qatar Investm...</td>\n",
       "    </tr>\n",
       "  </tbody>\n",
       "</table>\n",
       "</div>"
      ],
      "text/plain": [
       "                         Company Valuation ($B) Date Joined    Country City  \\\n",
       "10                           FTX             32   7/20/2021    Bahamas  NaN   \n",
       "242                    HyalRoute           3.50   5/26/2020  Singapore  NaN   \n",
       "316                  Amber Group              3   6/21/2021  Hong Kong  NaN   \n",
       "346                       Moglix           2.60   5/17/2021  Singapore  NaN   \n",
       "371                Coda Payments           2.50   4/15/2022  Singapore  NaN   \n",
       "482   Advance Intelligence Group              2   9/23/2021  Singapore  NaN   \n",
       "495                         Trax              2   7/22/2019  Singapore  NaN   \n",
       "865                    Carousell           1.10   9/15/2021  Singapore  NaN   \n",
       "917             LinkSure Network              1    1/1/2015      China  NaN   \n",
       "941                        WeLab              1   11/8/2017  Hong Kong  NaN   \n",
       "1000                     PatSnap              1   3/16/2021  Singapore  NaN   \n",
       "1027                  Matrixport           1.05    6/1/2021  Singapore  NaN   \n",
       "1032                       Carro              1   6/14/2021  Singapore  NaN   \n",
       "1044                    bolttech              1    7/1/2021  Singapore  NaN   \n",
       "1054                        NIUM              1   7/13/2021  Singapore  NaN   \n",
       "1065                       Cider              1    9/2/2021  Hong Kong  NaN   \n",
       "1077                   Ninja Van              1   9/27/2021  Singapore  NaN   \n",
       "1129                         ONE              1   12/8/2021  Singapore  NaN   \n",
       "\n",
       "                                 Industry  \\\n",
       "10                                Fintech   \n",
       "242           Mobile & telecommunications   \n",
       "316                               Fintech   \n",
       "346       E-commerce & direct-to-consumer   \n",
       "371                               Fintech   \n",
       "482               Artificial intelligence   \n",
       "495               Artificial intelligence   \n",
       "865       E-commerce & direct-to-consumer   \n",
       "917                              Shanghai   \n",
       "941                               Fintech   \n",
       "1000         Internet software & services   \n",
       "1027                              Fintech   \n",
       "1032      E-commerce & direct-to-consumer   \n",
       "1044                              Fintech   \n",
       "1054                              Fintech   \n",
       "1065      E-commerce & direct-to-consumer   \n",
       "1077  Supply chain, logistics, & delivery   \n",
       "1129         Internet software & services   \n",
       "\n",
       "                                              Investors  \n",
       "10               Sequoia Capital, Thoma Bravo, Softbank  \n",
       "242                                           Kuang-Chi  \n",
       "316   Tiger Global Management, Tiger Brokers, DCM Ve...  \n",
       "346             Jungle Ventures, Accel, Venture Highway  \n",
       "371                GIC. Apis Partners, Insight Partners  \n",
       "482         Vision Plus Capital, GSR Ventures, ZhenFund  \n",
       "495   Hopu Investment Management, Boyu Capital, DC T...  \n",
       "865   500 Global, Rakuten Ventures, Golden Gate Vent...  \n",
       "917                         Mobile & telecommunications  \n",
       "941   Sequoia Capital China, ING, Alibaba Entreprene...  \n",
       "1000  Sequoia Capital China, Shunwei Capital Partner...  \n",
       "1027  Dragonfly Captial, Qiming Venture Partners, DS...  \n",
       "1032  SingTel Innov8, Alpha JWC Ventures, Golden Gat...  \n",
       "1044  Mundi Ventures, Doqling Capital Partners, Acti...  \n",
       "1054  Vertex Ventures SE Asia, Global Founders Capit...  \n",
       "1065       Andreessen Horowitz, DST Global, IDG Capital  \n",
       "1077  B Capital Group, Monk's Hill Ventures, Dynamic...  \n",
       "1129  Temasek, Guggenheim Investments, Qatar Investm...  "
      ]
     },
     "execution_count": 48,
     "metadata": {},
     "output_type": "execute_result"
    }
   ],
   "source": [
    "df[df['City'].isna()]"
   ]
  },
  {
   "cell_type": "code",
   "execution_count": 49,
   "id": "48b78033",
   "metadata": {},
   "outputs": [],
   "source": [
    "# Now to fix the small error on row 917 and move Shanghai back\n",
    "df.loc[917,'City'] = 'Shanghai'\n",
    "df.loc[917,'Industry'] = 'Mobile & telecommunications'\n",
    "df.loc[917,'Investors'] = 'Haitong Kaiyuan Investment, Northern Light Venture Capital'"
   ]
  },
  {
   "cell_type": "code",
   "execution_count": 50,
   "id": "62f1cf2f",
   "metadata": {},
   "outputs": [
    {
     "data": {
      "text/html": [
       "<div>\n",
       "<style scoped>\n",
       "    .dataframe tbody tr th:only-of-type {\n",
       "        vertical-align: middle;\n",
       "    }\n",
       "\n",
       "    .dataframe tbody tr th {\n",
       "        vertical-align: top;\n",
       "    }\n",
       "\n",
       "    .dataframe thead th {\n",
       "        text-align: right;\n",
       "    }\n",
       "</style>\n",
       "<table border=\"1\" class=\"dataframe\">\n",
       "  <thead>\n",
       "    <tr style=\"text-align: right;\">\n",
       "      <th></th>\n",
       "      <th>Company</th>\n",
       "      <th>Valuation ($B)</th>\n",
       "      <th>Date Joined</th>\n",
       "      <th>Country</th>\n",
       "      <th>City</th>\n",
       "      <th>Industry</th>\n",
       "      <th>Investors</th>\n",
       "    </tr>\n",
       "  </thead>\n",
       "  <tbody>\n",
       "    <tr>\n",
       "      <th>917</th>\n",
       "      <td>LinkSure Network</td>\n",
       "      <td>1</td>\n",
       "      <td>1/1/2015</td>\n",
       "      <td>China</td>\n",
       "      <td>Shanghai</td>\n",
       "      <td>Mobile &amp; telecommunications</td>\n",
       "      <td>Haitong Kaiyuan Investment, Northern Light Ven...</td>\n",
       "    </tr>\n",
       "  </tbody>\n",
       "</table>\n",
       "</div>"
      ],
      "text/plain": [
       "              Company Valuation ($B) Date Joined Country      City  \\\n",
       "917  LinkSure Network              1    1/1/2015   China  Shanghai   \n",
       "\n",
       "                        Industry  \\\n",
       "917  Mobile & telecommunications   \n",
       "\n",
       "                                             Investors  \n",
       "917  Haitong Kaiyuan Investment, Northern Light Ven...  "
      ]
     },
     "execution_count": 50,
     "metadata": {},
     "output_type": "execute_result"
    }
   ],
   "source": [
    "df.loc[df['Investors'] == 'Haitong Kaiyuan Investment, Northern Light Venture Capital']"
   ]
  },
  {
   "cell_type": "code",
   "execution_count": 51,
   "id": "9c8db3cf",
   "metadata": {},
   "outputs": [],
   "source": [
    "# Change the date to datetime\n",
    "df['Date Joined'] = pd.to_datetime(df['Date Joined'])"
   ]
  },
  {
   "cell_type": "code",
   "execution_count": 52,
   "id": "b73ffbf9",
   "metadata": {},
   "outputs": [
    {
     "name": "stdout",
     "output_type": "stream",
     "text": [
      "<class 'pandas.core.frame.DataFrame'>\n",
      "RangeIndex: 1186 entries, 0 to 1185\n",
      "Data columns (total 7 columns):\n",
      " #   Column          Non-Null Count  Dtype         \n",
      "---  ------          --------------  -----         \n",
      " 0   Company         1186 non-null   object        \n",
      " 1   Valuation ($B)  1186 non-null   object        \n",
      " 2   Date Joined     1186 non-null   datetime64[ns]\n",
      " 3   Country         1186 non-null   object        \n",
      " 4   City            1169 non-null   object        \n",
      " 5   Industry        1186 non-null   object        \n",
      " 6   Investors       1186 non-null   object        \n",
      "dtypes: datetime64[ns](1), object(6)\n",
      "memory usage: 65.0+ KB\n"
     ]
    }
   ],
   "source": [
    "df.info()"
   ]
  },
  {
   "cell_type": "code",
   "execution_count": 53,
   "id": "daf77602",
   "metadata": {},
   "outputs": [],
   "source": [
    "# Change the Valuation to float \n",
    "df['Valuation ($B)'] = df['Valuation ($B)'].astype(float)"
   ]
  },
  {
   "cell_type": "code",
   "execution_count": 54,
   "id": "848cbb2d",
   "metadata": {},
   "outputs": [
    {
     "name": "stdout",
     "output_type": "stream",
     "text": [
      "<class 'pandas.core.frame.DataFrame'>\n",
      "RangeIndex: 1186 entries, 0 to 1185\n",
      "Data columns (total 7 columns):\n",
      " #   Column          Non-Null Count  Dtype         \n",
      "---  ------          --------------  -----         \n",
      " 0   Company         1186 non-null   object        \n",
      " 1   Valuation ($B)  1186 non-null   float64       \n",
      " 2   Date Joined     1186 non-null   datetime64[ns]\n",
      " 3   Country         1186 non-null   object        \n",
      " 4   City            1169 non-null   object        \n",
      " 5   Industry        1186 non-null   object        \n",
      " 6   Investors       1186 non-null   object        \n",
      "dtypes: datetime64[ns](1), float64(1), object(5)\n",
      "memory usage: 65.0+ KB\n"
     ]
    }
   ],
   "source": [
    "df.info()"
   ]
  },
  {
   "cell_type": "code",
   "execution_count": 56,
   "id": "ee1892f9",
   "metadata": {},
   "outputs": [],
   "source": [
    "# Moves the investors to seprate Columns \n",
    "df[['Investor 1', 'Investor 2', 'Investor 3', 'Investor 4']] = df['Investors'].str.split(', ', expand=True)"
   ]
  },
  {
   "cell_type": "code",
   "execution_count": 57,
   "id": "ea74f9ed",
   "metadata": {},
   "outputs": [
    {
     "name": "stdout",
     "output_type": "stream",
     "text": [
      "<class 'pandas.core.frame.DataFrame'>\n",
      "RangeIndex: 1186 entries, 0 to 1185\n",
      "Data columns (total 11 columns):\n",
      " #   Column          Non-Null Count  Dtype         \n",
      "---  ------          --------------  -----         \n",
      " 0   Company         1186 non-null   object        \n",
      " 1   Valuation ($B)  1186 non-null   float64       \n",
      " 2   Date Joined     1186 non-null   datetime64[ns]\n",
      " 3   Country         1186 non-null   object        \n",
      " 4   City            1169 non-null   object        \n",
      " 5   Industry        1186 non-null   object        \n",
      " 6   Investors       1186 non-null   object        \n",
      " 7   Investor 1      1186 non-null   object        \n",
      " 8   Investor 2      1132 non-null   object        \n",
      " 9   Investor 3      1035 non-null   object        \n",
      " 10  Investor 4      7 non-null      object        \n",
      "dtypes: datetime64[ns](1), float64(1), object(9)\n",
      "memory usage: 102.0+ KB\n"
     ]
    }
   ],
   "source": [
    "df.info()"
   ]
  },
  {
   "cell_type": "code",
   "execution_count": 58,
   "id": "844b9828",
   "metadata": {},
   "outputs": [
    {
     "data": {
      "text/html": [
       "<div>\n",
       "<style scoped>\n",
       "    .dataframe tbody tr th:only-of-type {\n",
       "        vertical-align: middle;\n",
       "    }\n",
       "\n",
       "    .dataframe tbody tr th {\n",
       "        vertical-align: top;\n",
       "    }\n",
       "\n",
       "    .dataframe thead th {\n",
       "        text-align: right;\n",
       "    }\n",
       "</style>\n",
       "<table border=\"1\" class=\"dataframe\">\n",
       "  <thead>\n",
       "    <tr style=\"text-align: right;\">\n",
       "      <th></th>\n",
       "      <th>Company</th>\n",
       "      <th>Valuation ($B)</th>\n",
       "      <th>Date Joined</th>\n",
       "      <th>Country</th>\n",
       "      <th>City</th>\n",
       "      <th>Industry</th>\n",
       "      <th>Investors</th>\n",
       "      <th>Investor 1</th>\n",
       "      <th>Investor 2</th>\n",
       "      <th>Investor 3</th>\n",
       "      <th>Investor 4</th>\n",
       "    </tr>\n",
       "  </thead>\n",
       "  <tbody>\n",
       "    <tr>\n",
       "      <th>0</th>\n",
       "      <td>ByteDance</td>\n",
       "      <td>140.0</td>\n",
       "      <td>2017-04-07</td>\n",
       "      <td>China</td>\n",
       "      <td>Beijing</td>\n",
       "      <td>Artificial intelligence</td>\n",
       "      <td>Sequoia Capital China, SIG Asia Investments, S...</td>\n",
       "      <td>Sequoia Capital China</td>\n",
       "      <td>SIG Asia Investments</td>\n",
       "      <td>Sina Weibo</td>\n",
       "      <td>Softbank Group</td>\n",
       "    </tr>\n",
       "    <tr>\n",
       "      <th>1</th>\n",
       "      <td>SpaceX</td>\n",
       "      <td>127.0</td>\n",
       "      <td>2012-12-01</td>\n",
       "      <td>United States</td>\n",
       "      <td>Hawthorne</td>\n",
       "      <td>Other</td>\n",
       "      <td>Founders Fund, Draper Fisher Jurvetson, Rothen...</td>\n",
       "      <td>Founders Fund</td>\n",
       "      <td>Draper Fisher Jurvetson</td>\n",
       "      <td>Rothenberg Ventures</td>\n",
       "      <td>None</td>\n",
       "    </tr>\n",
       "    <tr>\n",
       "      <th>2</th>\n",
       "      <td>SHEIN</td>\n",
       "      <td>100.0</td>\n",
       "      <td>2018-07-03</td>\n",
       "      <td>China</td>\n",
       "      <td>Shenzhen</td>\n",
       "      <td>E-commerce &amp; direct-to-consumer</td>\n",
       "      <td>Tiger Global Management, Sequoia Capital China...</td>\n",
       "      <td>Tiger Global Management</td>\n",
       "      <td>Sequoia Capital China</td>\n",
       "      <td>Shunwei Capital Partners</td>\n",
       "      <td>None</td>\n",
       "    </tr>\n",
       "    <tr>\n",
       "      <th>3</th>\n",
       "      <td>Stripe</td>\n",
       "      <td>95.0</td>\n",
       "      <td>2014-01-23</td>\n",
       "      <td>United States</td>\n",
       "      <td>San Francisco</td>\n",
       "      <td>Fintech</td>\n",
       "      <td>Khosla Ventures, LowercaseCapital, capitalG</td>\n",
       "      <td>Khosla Ventures</td>\n",
       "      <td>LowercaseCapital</td>\n",
       "      <td>capitalG</td>\n",
       "      <td>None</td>\n",
       "    </tr>\n",
       "    <tr>\n",
       "      <th>4</th>\n",
       "      <td>Canva</td>\n",
       "      <td>40.0</td>\n",
       "      <td>2018-01-08</td>\n",
       "      <td>Australia</td>\n",
       "      <td>Surry Hills</td>\n",
       "      <td>Internet software &amp; services</td>\n",
       "      <td>Sequoia Capital China, Blackbird Ventures, Mat...</td>\n",
       "      <td>Sequoia Capital China</td>\n",
       "      <td>Blackbird Ventures</td>\n",
       "      <td>Matrix Partners</td>\n",
       "      <td>None</td>\n",
       "    </tr>\n",
       "  </tbody>\n",
       "</table>\n",
       "</div>"
      ],
      "text/plain": [
       "     Company  Valuation ($B) Date Joined        Country           City  \\\n",
       "0  ByteDance           140.0  2017-04-07          China        Beijing   \n",
       "1     SpaceX           127.0  2012-12-01  United States      Hawthorne   \n",
       "2      SHEIN           100.0  2018-07-03          China       Shenzhen   \n",
       "3     Stripe            95.0  2014-01-23  United States  San Francisco   \n",
       "4      Canva            40.0  2018-01-08      Australia    Surry Hills   \n",
       "\n",
       "                          Industry  \\\n",
       "0          Artificial intelligence   \n",
       "1                            Other   \n",
       "2  E-commerce & direct-to-consumer   \n",
       "3                          Fintech   \n",
       "4     Internet software & services   \n",
       "\n",
       "                                           Investors               Investor 1  \\\n",
       "0  Sequoia Capital China, SIG Asia Investments, S...    Sequoia Capital China   \n",
       "1  Founders Fund, Draper Fisher Jurvetson, Rothen...            Founders Fund   \n",
       "2  Tiger Global Management, Sequoia Capital China...  Tiger Global Management   \n",
       "3        Khosla Ventures, LowercaseCapital, capitalG          Khosla Ventures   \n",
       "4  Sequoia Capital China, Blackbird Ventures, Mat...    Sequoia Capital China   \n",
       "\n",
       "                Investor 2                Investor 3      Investor 4  \n",
       "0     SIG Asia Investments                Sina Weibo  Softbank Group  \n",
       "1  Draper Fisher Jurvetson       Rothenberg Ventures            None  \n",
       "2    Sequoia Capital China  Shunwei Capital Partners            None  \n",
       "3         LowercaseCapital                  capitalG            None  \n",
       "4       Blackbird Ventures           Matrix Partners            None  "
      ]
     },
     "execution_count": 58,
     "metadata": {},
     "output_type": "execute_result"
    }
   ],
   "source": [
    "df.head()"
   ]
  },
  {
   "cell_type": "code",
   "execution_count": 59,
   "id": "62ce6e68",
   "metadata": {},
   "outputs": [],
   "source": [
    "# Drops Old Column\n",
    "df.drop(columns='Investors', inplace=True)"
   ]
  },
  {
   "cell_type": "code",
   "execution_count": 60,
   "id": "dd84b98f",
   "metadata": {},
   "outputs": [
    {
     "data": {
      "text/html": [
       "<div>\n",
       "<style scoped>\n",
       "    .dataframe tbody tr th:only-of-type {\n",
       "        vertical-align: middle;\n",
       "    }\n",
       "\n",
       "    .dataframe tbody tr th {\n",
       "        vertical-align: top;\n",
       "    }\n",
       "\n",
       "    .dataframe thead th {\n",
       "        text-align: right;\n",
       "    }\n",
       "</style>\n",
       "<table border=\"1\" class=\"dataframe\">\n",
       "  <thead>\n",
       "    <tr style=\"text-align: right;\">\n",
       "      <th></th>\n",
       "      <th>Company</th>\n",
       "      <th>Valuation ($B)</th>\n",
       "      <th>Date Joined</th>\n",
       "      <th>Country</th>\n",
       "      <th>City</th>\n",
       "      <th>Industry</th>\n",
       "      <th>Investor 1</th>\n",
       "      <th>Investor 2</th>\n",
       "      <th>Investor 3</th>\n",
       "      <th>Investor 4</th>\n",
       "    </tr>\n",
       "  </thead>\n",
       "  <tbody>\n",
       "    <tr>\n",
       "      <th>0</th>\n",
       "      <td>ByteDance</td>\n",
       "      <td>140.0</td>\n",
       "      <td>2017-04-07</td>\n",
       "      <td>China</td>\n",
       "      <td>Beijing</td>\n",
       "      <td>Artificial intelligence</td>\n",
       "      <td>Sequoia Capital China</td>\n",
       "      <td>SIG Asia Investments</td>\n",
       "      <td>Sina Weibo</td>\n",
       "      <td>Softbank Group</td>\n",
       "    </tr>\n",
       "    <tr>\n",
       "      <th>1</th>\n",
       "      <td>SpaceX</td>\n",
       "      <td>127.0</td>\n",
       "      <td>2012-12-01</td>\n",
       "      <td>United States</td>\n",
       "      <td>Hawthorne</td>\n",
       "      <td>Other</td>\n",
       "      <td>Founders Fund</td>\n",
       "      <td>Draper Fisher Jurvetson</td>\n",
       "      <td>Rothenberg Ventures</td>\n",
       "      <td>None</td>\n",
       "    </tr>\n",
       "    <tr>\n",
       "      <th>2</th>\n",
       "      <td>SHEIN</td>\n",
       "      <td>100.0</td>\n",
       "      <td>2018-07-03</td>\n",
       "      <td>China</td>\n",
       "      <td>Shenzhen</td>\n",
       "      <td>E-commerce &amp; direct-to-consumer</td>\n",
       "      <td>Tiger Global Management</td>\n",
       "      <td>Sequoia Capital China</td>\n",
       "      <td>Shunwei Capital Partners</td>\n",
       "      <td>None</td>\n",
       "    </tr>\n",
       "    <tr>\n",
       "      <th>3</th>\n",
       "      <td>Stripe</td>\n",
       "      <td>95.0</td>\n",
       "      <td>2014-01-23</td>\n",
       "      <td>United States</td>\n",
       "      <td>San Francisco</td>\n",
       "      <td>Fintech</td>\n",
       "      <td>Khosla Ventures</td>\n",
       "      <td>LowercaseCapital</td>\n",
       "      <td>capitalG</td>\n",
       "      <td>None</td>\n",
       "    </tr>\n",
       "    <tr>\n",
       "      <th>4</th>\n",
       "      <td>Canva</td>\n",
       "      <td>40.0</td>\n",
       "      <td>2018-01-08</td>\n",
       "      <td>Australia</td>\n",
       "      <td>Surry Hills</td>\n",
       "      <td>Internet software &amp; services</td>\n",
       "      <td>Sequoia Capital China</td>\n",
       "      <td>Blackbird Ventures</td>\n",
       "      <td>Matrix Partners</td>\n",
       "      <td>None</td>\n",
       "    </tr>\n",
       "  </tbody>\n",
       "</table>\n",
       "</div>"
      ],
      "text/plain": [
       "     Company  Valuation ($B) Date Joined        Country           City  \\\n",
       "0  ByteDance           140.0  2017-04-07          China        Beijing   \n",
       "1     SpaceX           127.0  2012-12-01  United States      Hawthorne   \n",
       "2      SHEIN           100.0  2018-07-03          China       Shenzhen   \n",
       "3     Stripe            95.0  2014-01-23  United States  San Francisco   \n",
       "4      Canva            40.0  2018-01-08      Australia    Surry Hills   \n",
       "\n",
       "                          Industry               Investor 1  \\\n",
       "0          Artificial intelligence    Sequoia Capital China   \n",
       "1                            Other            Founders Fund   \n",
       "2  E-commerce & direct-to-consumer  Tiger Global Management   \n",
       "3                          Fintech          Khosla Ventures   \n",
       "4     Internet software & services    Sequoia Capital China   \n",
       "\n",
       "                Investor 2                Investor 3      Investor 4  \n",
       "0     SIG Asia Investments                Sina Weibo  Softbank Group  \n",
       "1  Draper Fisher Jurvetson       Rothenberg Ventures            None  \n",
       "2    Sequoia Capital China  Shunwei Capital Partners            None  \n",
       "3         LowercaseCapital                  capitalG            None  \n",
       "4       Blackbird Ventures           Matrix Partners            None  "
      ]
     },
     "execution_count": 60,
     "metadata": {},
     "output_type": "execute_result"
    }
   ],
   "source": [
    "df.head()"
   ]
  },
  {
   "cell_type": "code",
   "execution_count": 61,
   "id": "e1c11c30",
   "metadata": {},
   "outputs": [],
   "source": [
    "# It is cleaned\n",
    "df.to_csv('./Unicorn_Clean2022.csv')"
   ]
  },
  {
   "cell_type": "code",
   "execution_count": 62,
   "id": "1df9a716",
   "metadata": {},
   "outputs": [
    {
     "data": {
      "text/plain": [
       "Fintech                                246\n",
       "Internet software & services           226\n",
       "E-commerce & direct-to-consumer        107\n",
       "Health                                  94\n",
       "Artificial intelligence                 76\n",
       "Supply chain, logistics, & delivery     66\n",
       "Other                                   65\n",
       "Cybersecurity                           58\n",
       "Data management & analytics             45\n",
       "Auto & transportation                   40\n",
       "Mobile & telecommunications             38\n",
       "Hardware                                38\n",
       "Edtech                                  32\n",
       "Consumer & retail                       28\n",
       "Travel                                  14\n",
       "Artificial Intelligence                 11\n",
       "Internet                                 2\n",
       "Name: Industry, dtype: int64"
      ]
     },
     "execution_count": 62,
     "metadata": {},
     "output_type": "execute_result"
    }
   ],
   "source": [
    "df['Industry'].value_counts()"
   ]
  },
  {
   "cell_type": "code",
   "execution_count": null,
   "id": "e0b1d034",
   "metadata": {},
   "outputs": [],
   "source": []
  }
 ],
 "metadata": {
  "kernelspec": {
   "display_name": "Python 3 (ipykernel)",
   "language": "python",
   "name": "python3"
  },
  "language_info": {
   "codemirror_mode": {
    "name": "ipython",
    "version": 3
   },
   "file_extension": ".py",
   "mimetype": "text/x-python",
   "name": "python",
   "nbconvert_exporter": "python",
   "pygments_lexer": "ipython3",
   "version": "3.9.13"
  }
 },
 "nbformat": 4,
 "nbformat_minor": 5
}
